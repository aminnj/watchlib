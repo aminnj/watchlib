{
 "cells": [
  {
   "cell_type": "code",
   "execution_count": 10,
   "metadata": {},
   "outputs": [],
   "source": [
    "import sys\n",
    "sys.path.append(\"../\")\n",
    "\n",
    "from watchlib.data_handler import DataLoader\n",
    "from watchlib.analysis import ecg_analysis"
   ]
  },
  {
   "cell_type": "code",
   "execution_count": 17,
   "metadata": {},
   "outputs": [],
   "source": [
    "path = \"path/to/your/apple_health_export\""
   ]
  },
  {
   "cell_type": "code",
   "execution_count": 18,
   "metadata": {},
   "outputs": [],
   "source": [
    "dl = DataLoader(path)"
   ]
  },
  {
   "cell_type": "code",
   "execution_count": 19,
   "metadata": {},
   "outputs": [
    {
     "name": "stdout",
     "output_type": "stream",
     "text": [
      "Loading 21 electrocardiograms.\n"
     ]
    }
   ],
   "source": [
    "ecgs = dl.load_ecgs()\n",
    "ecg = ecgs[0]\n",
    "meta_data = ecg.meta_data\n",
    "data = ecg.data"
   ]
  },
  {
   "cell_type": "code",
   "execution_count": 20,
   "metadata": {},
   "outputs": [
    {
     "name": "stdout",
     "output_type": "stream",
     "text": [
      "Beats per minute: 72.07977579352148\n",
      "Heartrate variability: 10.029411764705882\n"
     ]
    }
   ],
   "source": [
    "bpm = ecg_analysis.bpm(ecg)\n",
    "hrv = ecg_analysis.heart_rate_variability(ecg)\n",
    "print(f\"Beats per minute: {bpm}\")\n",
    "print(f\"Heartrate variability: {hrv}\")"
   ]
  }
 ],
 "metadata": {
  "interpreter": {
   "hash": "5f9a5c6385b27be52577e52a1da1fad1ce0728a3561da10564cac0639bb46950"
  },
  "kernelspec": {
   "display_name": "Python 3.8.3 64-bit ('base': conda)",
   "name": "python3"
  },
  "language_info": {
   "codemirror_mode": {
    "name": "ipython",
    "version": 3
   },
   "file_extension": ".py",
   "mimetype": "text/x-python",
   "name": "python",
   "nbconvert_exporter": "python",
   "pygments_lexer": "ipython3",
   "version": "3.9.7"
  },
  "orig_nbformat": 4
 },
 "nbformat": 4,
 "nbformat_minor": 2
}
