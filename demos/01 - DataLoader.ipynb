{
 "cells": [
  {
   "cell_type": "code",
   "execution_count": 9,
   "metadata": {},
   "outputs": [],
   "source": [
    "import sys\n",
    "sys.path.append(\"../\")\n",
    "\n",
    "from watchlib.data_handler import DataLoader"
   ]
  },
  {
   "cell_type": "code",
   "execution_count": 10,
   "metadata": {},
   "outputs": [],
   "source": [
    "dl = DataLoader(\"/Users/macbookpro/Documents/Code/watchlib/data/apple_health_export\")"
   ]
  },
  {
   "cell_type": "markdown",
   "metadata": {},
   "source": [
    "# Workout routes\n",
    "## Loading and reading routes directly from the health export:"
   ]
  },
  {
   "cell_type": "code",
   "execution_count": 11,
   "metadata": {},
   "outputs": [
    {
     "name": "stdout",
     "output_type": "stream",
     "text": [
      "Loading 370 workout routes.\n"
     ]
    },
    {
     "data": {
      "text/html": [
       "<div>\n",
       "<style scoped>\n",
       "    .dataframe tbody tr th:only-of-type {\n",
       "        vertical-align: middle;\n",
       "    }\n",
       "\n",
       "    .dataframe tbody tr th {\n",
       "        vertical-align: top;\n",
       "    }\n",
       "\n",
       "    .dataframe thead th {\n",
       "        text-align: right;\n",
       "    }\n",
       "</style>\n",
       "<table border=\"1\" class=\"dataframe\">\n",
       "  <thead>\n",
       "    <tr style=\"text-align: right;\">\n",
       "      <th></th>\n",
       "      <th>lon</th>\n",
       "      <th>lat</th>\n",
       "      <th>time</th>\n",
       "      <th>elevation</th>\n",
       "      <th>speed</th>\n",
       "      <th>course</th>\n",
       "      <th>hAcc</th>\n",
       "      <th>vAcc</th>\n",
       "    </tr>\n",
       "  </thead>\n",
       "  <tbody>\n",
       "    <tr>\n",
       "      <th>0</th>\n",
       "      <td>10.602641</td>\n",
       "      <td>49.581985</td>\n",
       "      <td>2021-07-11T13:51:38Z</td>\n",
       "      <td>291.565704</td>\n",
       "      <td>1.107545</td>\n",
       "      <td>91.421913</td>\n",
       "      <td>3.641275</td>\n",
       "      <td>2.577065</td>\n",
       "    </tr>\n",
       "    <tr>\n",
       "      <th>1</th>\n",
       "      <td>10.602659</td>\n",
       "      <td>49.581977</td>\n",
       "      <td>2021-07-11T13:51:40Z</td>\n",
       "      <td>291.529633</td>\n",
       "      <td>1.108436</td>\n",
       "      <td>104.217720</td>\n",
       "      <td>3.184691</td>\n",
       "      <td>2.264126</td>\n",
       "    </tr>\n",
       "    <tr>\n",
       "      <th>2</th>\n",
       "      <td>10.602667</td>\n",
       "      <td>49.581974</td>\n",
       "      <td>2021-07-11T13:51:41Z</td>\n",
       "      <td>291.513947</td>\n",
       "      <td>1.108892</td>\n",
       "      <td>115.857498</td>\n",
       "      <td>3.003400</td>\n",
       "      <td>2.140852</td>\n",
       "    </tr>\n",
       "    <tr>\n",
       "      <th>3</th>\n",
       "      <td>10.602680</td>\n",
       "      <td>49.581969</td>\n",
       "      <td>2021-07-11T13:51:42Z</td>\n",
       "      <td>291.488007</td>\n",
       "      <td>1.111289</td>\n",
       "      <td>122.271286</td>\n",
       "      <td>2.728940</td>\n",
       "      <td>1.955657</td>\n",
       "    </tr>\n",
       "    <tr>\n",
       "      <th>4</th>\n",
       "      <td>10.602693</td>\n",
       "      <td>49.581964</td>\n",
       "      <td>2021-07-11T13:51:42Z</td>\n",
       "      <td>291.462097</td>\n",
       "      <td>1.115733</td>\n",
       "      <td>113.029823</td>\n",
       "      <td>2.486191</td>\n",
       "      <td>1.793673</td>\n",
       "    </tr>\n",
       "  </tbody>\n",
       "</table>\n",
       "</div>"
      ],
      "text/plain": [
       "         lon        lat                  time   elevation     speed  \\\n",
       "0  10.602641  49.581985  2021-07-11T13:51:38Z  291.565704  1.107545   \n",
       "1  10.602659  49.581977  2021-07-11T13:51:40Z  291.529633  1.108436   \n",
       "2  10.602667  49.581974  2021-07-11T13:51:41Z  291.513947  1.108892   \n",
       "3  10.602680  49.581969  2021-07-11T13:51:42Z  291.488007  1.111289   \n",
       "4  10.602693  49.581964  2021-07-11T13:51:42Z  291.462097  1.115733   \n",
       "\n",
       "       course      hAcc      vAcc  \n",
       "0   91.421913  3.641275  2.577065  \n",
       "1  104.217720  3.184691  2.264126  \n",
       "2  115.857498  3.003400  2.140852  \n",
       "3  122.271286  2.728940  1.955657  \n",
       "4  113.029823  2.486191  1.793673  "
      ]
     },
     "execution_count": 11,
     "metadata": {},
     "output_type": "execute_result"
    }
   ],
   "source": [
    "# Loading all workout routes and reading one of them\n",
    "routes = dl.load_routes()\n",
    "routes = dl.read_routes(routes)\n",
    "routes[\"route_2021-07-11_4.09pm.gpx\"].head()"
   ]
  },
  {
   "cell_type": "markdown",
   "metadata": {},
   "source": [
    "## Caching routes for faster loading times"
   ]
  },
  {
   "cell_type": "code",
   "execution_count": 12,
   "metadata": {},
   "outputs": [],
   "source": [
    "dl.cache_routes(routes)"
   ]
  },
  {
   "cell_type": "code",
   "execution_count": 13,
   "metadata": {},
   "outputs": [],
   "source": [
    "cached_routes = dl.load_cached_routes()"
   ]
  },
  {
   "cell_type": "markdown",
   "metadata": {},
   "source": [
    "# Electrocardiograms (ECG)"
   ]
  },
  {
   "cell_type": "code",
   "execution_count": 14,
   "metadata": {},
   "outputs": [
    {
     "name": "stdout",
     "output_type": "stream",
     "text": [
      "Loading 21 electrocardiograms.\n"
     ]
    }
   ],
   "source": [
    "ecgs = dl.load_ecgs()\n",
    "data, meta_data = dl.read_ecg(ecgs[\"ecg_2020-11-20.csv\"])"
   ]
  },
  {
   "cell_type": "code",
   "execution_count": 15,
   "metadata": {},
   "outputs": [
    {
     "data": {
      "text/plain": [
       "dict_keys(['Geburtstag', 'Aufzeichnungsdatum', 'Klassifizierung', 'Symptome', 'Softwareversion', 'Gerät', 'Messrate', 'Ableitung', 'Einheit', 'name'])"
      ]
     },
     "execution_count": 15,
     "metadata": {},
     "output_type": "execute_result"
    }
   ],
   "source": [
    "meta_data.keys()"
   ]
  },
  {
   "cell_type": "code",
   "execution_count": 16,
   "metadata": {},
   "outputs": [
    {
     "data": {
      "text/html": [
       "<div>\n",
       "<style scoped>\n",
       "    .dataframe tbody tr th:only-of-type {\n",
       "        vertical-align: middle;\n",
       "    }\n",
       "\n",
       "    .dataframe tbody tr th {\n",
       "        vertical-align: top;\n",
       "    }\n",
       "\n",
       "    .dataframe thead th {\n",
       "        text-align: right;\n",
       "    }\n",
       "</style>\n",
       "<table border=\"1\" class=\"dataframe\">\n",
       "  <thead>\n",
       "    <tr style=\"text-align: right;\">\n",
       "      <th></th>\n",
       "      <th>name</th>\n",
       "      <th>value</th>\n",
       "    </tr>\n",
       "  </thead>\n",
       "  <tbody>\n",
       "    <tr>\n",
       "      <th>9</th>\n",
       "      <td>-33</td>\n",
       "      <td>767</td>\n",
       "    </tr>\n",
       "    <tr>\n",
       "      <th>10</th>\n",
       "      <td>-41</td>\n",
       "      <td>761</td>\n",
       "    </tr>\n",
       "    <tr>\n",
       "      <th>11</th>\n",
       "      <td>-48</td>\n",
       "      <td>858</td>\n",
       "    </tr>\n",
       "    <tr>\n",
       "      <th>12</th>\n",
       "      <td>-55</td>\n",
       "      <td>38</td>\n",
       "    </tr>\n",
       "    <tr>\n",
       "      <th>13</th>\n",
       "      <td>-60</td>\n",
       "      <td>286</td>\n",
       "    </tr>\n",
       "  </tbody>\n",
       "</table>\n",
       "</div>"
      ],
      "text/plain": [
       "    name  value\n",
       "9    -33    767\n",
       "10   -41    761\n",
       "11   -48    858\n",
       "12   -55     38\n",
       "13   -60    286"
      ]
     },
     "execution_count": 16,
     "metadata": {},
     "output_type": "execute_result"
    }
   ],
   "source": [
    "data.head()"
   ]
  }
 ],
 "metadata": {
  "interpreter": {
   "hash": "e17245beed66d97676295f18f5af02f52c1ff0b20014505018e20bb50c7c46d6"
  },
  "kernelspec": {
   "display_name": "Python 3.8.3 64-bit ('base': conda)",
   "name": "python3"
  },
  "language_info": {
   "codemirror_mode": {
    "name": "ipython",
    "version": 3
   },
   "file_extension": ".py",
   "mimetype": "text/x-python",
   "name": "python",
   "nbconvert_exporter": "python",
   "pygments_lexer": "ipython3",
   "version": "3.8.3"
  },
  "orig_nbformat": 4
 },
 "nbformat": 4,
 "nbformat_minor": 2
}
