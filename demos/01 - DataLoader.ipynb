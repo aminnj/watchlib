{
 "cells": [
  {
   "cell_type": "code",
   "execution_count": 1,
   "metadata": {},
   "outputs": [],
   "source": [
    "import sys\n",
    "sys.path.append(\"../\")\n",
    "\n",
    "from watchlib.data_handler import DataLoader, CacheHandler"
   ]
  },
  {
   "cell_type": "code",
   "execution_count": 2,
   "metadata": {},
   "outputs": [],
   "source": [
    "path = \"path/to/your/apple_health_export\""
   ]
  },
  {
   "cell_type": "markdown",
   "metadata": {},
   "source": [
    "# DataLoader\n",
    "Use the `DataLoader` class to load routes, ecgs and health data directly from the exported files. Depending on the size of your export this might take some time.\n",
    "To speed up the loading process make sure to cache the newly loaded routes, ecgs and healthdata using the `CacheHandler`. Loading the data with the `CacheHanler` will greatly reduce loading times."
   ]
  },
  {
   "cell_type": "code",
   "execution_count": 3,
   "metadata": {},
   "outputs": [],
   "source": [
    "dl = DataLoader(path)"
   ]
  },
  {
   "cell_type": "code",
   "execution_count": 4,
   "metadata": {},
   "outputs": [
    {
     "name": "stdout",
     "output_type": "stream",
     "text": [
      "Loading 371 workout routes.\n",
      "Loading 21 electrocardiograms.\n",
      "Loading 42 health dataframes\n"
     ]
    }
   ],
   "source": [
    "routes = dl.load_routes()\n",
    "ecgs = dl.load_ecgs()\n",
    "health_data = dl.load_export_data()"
   ]
  },
  {
   "cell_type": "code",
   "execution_count": 5,
   "metadata": {},
   "outputs": [
    {
     "data": {
      "text/html": [
       "<div>\n",
       "<style scoped>\n",
       "    .dataframe tbody tr th:only-of-type {\n",
       "        vertical-align: middle;\n",
       "    }\n",
       "\n",
       "    .dataframe tbody tr th {\n",
       "        vertical-align: top;\n",
       "    }\n",
       "\n",
       "    .dataframe thead th {\n",
       "        text-align: right;\n",
       "    }\n",
       "</style>\n",
       "<table border=\"1\" class=\"dataframe\">\n",
       "  <thead>\n",
       "    <tr style=\"text-align: right;\">\n",
       "      <th></th>\n",
       "      <th>lon</th>\n",
       "      <th>lat</th>\n",
       "      <th>time</th>\n",
       "      <th>elevation</th>\n",
       "      <th>speed</th>\n",
       "      <th>course</th>\n",
       "      <th>hAcc</th>\n",
       "      <th>vAcc</th>\n",
       "    </tr>\n",
       "  </thead>\n",
       "  <tbody>\n",
       "    <tr>\n",
       "      <th>0</th>\n",
       "      <td>10.962217</td>\n",
       "      <td>49.417668</td>\n",
       "      <td>2021-02-16T15:35:28Z</td>\n",
       "      <td>328.474487</td>\n",
       "      <td>0.801781</td>\n",
       "      <td>219.824905</td>\n",
       "      <td>3.631745</td>\n",
       "      <td>2.574260</td>\n",
       "    </tr>\n",
       "    <tr>\n",
       "      <th>1</th>\n",
       "      <td>10.962209</td>\n",
       "      <td>49.417664</td>\n",
       "      <td>2021-02-16T15:35:29Z</td>\n",
       "      <td>328.495789</td>\n",
       "      <td>0.801948</td>\n",
       "      <td>237.373245</td>\n",
       "      <td>3.341393</td>\n",
       "      <td>2.369546</td>\n",
       "    </tr>\n",
       "    <tr>\n",
       "      <th>2</th>\n",
       "      <td>10.962200</td>\n",
       "      <td>49.417659</td>\n",
       "      <td>2021-02-16T15:35:30Z</td>\n",
       "      <td>328.517059</td>\n",
       "      <td>0.802525</td>\n",
       "      <td>211.984085</td>\n",
       "      <td>3.084980</td>\n",
       "      <td>2.188781</td>\n",
       "    </tr>\n",
       "    <tr>\n",
       "      <th>3</th>\n",
       "      <td>10.962192</td>\n",
       "      <td>49.417654</td>\n",
       "      <td>2021-02-16T15:35:31Z</td>\n",
       "      <td>328.538208</td>\n",
       "      <td>0.803684</td>\n",
       "      <td>211.888229</td>\n",
       "      <td>2.863122</td>\n",
       "      <td>2.032334</td>\n",
       "    </tr>\n",
       "    <tr>\n",
       "      <th>4</th>\n",
       "      <td>10.962184</td>\n",
       "      <td>49.417649</td>\n",
       "      <td>2021-02-16T15:35:32Z</td>\n",
       "      <td>328.559204</td>\n",
       "      <td>0.805563</td>\n",
       "      <td>207.591232</td>\n",
       "      <td>2.675567</td>\n",
       "      <td>1.899967</td>\n",
       "    </tr>\n",
       "  </tbody>\n",
       "</table>\n",
       "</div>"
      ],
      "text/plain": [
       "         lon        lat                  time   elevation     speed  \\\n",
       "0  10.962217  49.417668  2021-02-16T15:35:28Z  328.474487  0.801781   \n",
       "1  10.962209  49.417664  2021-02-16T15:35:29Z  328.495789  0.801948   \n",
       "2  10.962200  49.417659  2021-02-16T15:35:30Z  328.517059  0.802525   \n",
       "3  10.962192  49.417654  2021-02-16T15:35:31Z  328.538208  0.803684   \n",
       "4  10.962184  49.417649  2021-02-16T15:35:32Z  328.559204  0.805563   \n",
       "\n",
       "       course      hAcc      vAcc  \n",
       "0  219.824905  3.631745  2.574260  \n",
       "1  237.373245  3.341393  2.369546  \n",
       "2  211.984085  3.084980  2.188781  \n",
       "3  211.888229  2.863122  2.032334  \n",
       "4  207.591232  2.675567  1.899967  "
      ]
     },
     "execution_count": 5,
     "metadata": {},
     "output_type": "execute_result"
    }
   ],
   "source": [
    "routes[0].route.head()"
   ]
  },
  {
   "cell_type": "code",
   "execution_count": 6,
   "metadata": {},
   "outputs": [
    {
     "name": "stdout",
     "output_type": "stream",
     "text": [
      "{'Geburtstag': '26.03.2002', 'Aufzeichnungsdatum': '2021-01-09 00:35:12 +0200', 'Klassifizierung': 'Sinusrhythmus', 'Symptome': nan, 'Softwareversion': '1.90', 'Gerät': 'Watch6,2', 'Messrate': '512\\xa0Hertz', 'Ableitung': 'Ableitung I', 'Einheit': 'µV', 'name': 'Marc Julian Schwarz'}\n"
     ]
    },
    {
     "data": {
      "text/html": [
       "<div>\n",
       "<style scoped>\n",
       "    .dataframe tbody tr th:only-of-type {\n",
       "        vertical-align: middle;\n",
       "    }\n",
       "\n",
       "    .dataframe tbody tr th {\n",
       "        vertical-align: top;\n",
       "    }\n",
       "\n",
       "    .dataframe thead th {\n",
       "        text-align: right;\n",
       "    }\n",
       "</style>\n",
       "<table border=\"1\" class=\"dataframe\">\n",
       "  <thead>\n",
       "    <tr style=\"text-align: right;\">\n",
       "      <th></th>\n",
       "      <th>name</th>\n",
       "      <th>value</th>\n",
       "    </tr>\n",
       "  </thead>\n",
       "  <tbody>\n",
       "    <tr>\n",
       "      <th>9</th>\n",
       "      <td>-110</td>\n",
       "      <td>324</td>\n",
       "    </tr>\n",
       "    <tr>\n",
       "      <th>10</th>\n",
       "      <td>-111</td>\n",
       "      <td>575</td>\n",
       "    </tr>\n",
       "    <tr>\n",
       "      <th>11</th>\n",
       "      <td>-112</td>\n",
       "      <td>381</td>\n",
       "    </tr>\n",
       "    <tr>\n",
       "      <th>12</th>\n",
       "      <td>-112</td>\n",
       "      <td>716</td>\n",
       "    </tr>\n",
       "    <tr>\n",
       "      <th>13</th>\n",
       "      <td>-112</td>\n",
       "      <td>554</td>\n",
       "    </tr>\n",
       "  </tbody>\n",
       "</table>\n",
       "</div>"
      ],
      "text/plain": [
       "    name  value\n",
       "9   -110    324\n",
       "10  -111    575\n",
       "11  -112    381\n",
       "12  -112    716\n",
       "13  -112    554"
      ]
     },
     "execution_count": 6,
     "metadata": {},
     "output_type": "execute_result"
    }
   ],
   "source": [
    "print(ecgs[0].meta_data)\n",
    "ecgs[0].data.head()"
   ]
  },
  {
   "cell_type": "code",
   "execution_count": 7,
   "metadata": {},
   "outputs": [
    {
     "name": "stdout",
     "output_type": "stream",
     "text": [
      "dict_keys(['HKQuantityTypeIdentifierDietaryWater', 'HKQuantityTypeIdentifierBodyMassIndex', 'HKQuantityTypeIdentifierHeight', 'HKQuantityTypeIdentifierBodyMass', 'HKQuantityTypeIdentifierHeartRate', 'HKQuantityTypeIdentifierOxygenSaturation', 'HKQuantityTypeIdentifierBloodPressureSystolic', 'HKQuantityTypeIdentifierBloodPressureDiastolic', 'HKQuantityTypeIdentifierRespiratoryRate', 'HKQuantityTypeIdentifierStepCount', 'HKQuantityTypeIdentifierDistanceWalkingRunning', 'HKQuantityTypeIdentifierBasalEnergyBurned', 'HKQuantityTypeIdentifierActiveEnergyBurned', 'HKQuantityTypeIdentifierFlightsClimbed', 'HKQuantityTypeIdentifierAppleExerciseTime', 'HKQuantityTypeIdentifierDistanceCycling', 'HKQuantityTypeIdentifierDistanceSwimming', 'HKQuantityTypeIdentifierSwimmingStrokeCount', 'HKQuantityTypeIdentifierRestingHeartRate', 'HKQuantityTypeIdentifierVO2Max', 'HKQuantityTypeIdentifierWalkingHeartRateAverage', 'HKQuantityTypeIdentifierEnvironmentalAudioExposure', 'HKQuantityTypeIdentifierHeadphoneAudioExposure', 'HKQuantityTypeIdentifierWalkingDoubleSupportPercentage', 'HKQuantityTypeIdentifierSixMinuteWalkTestDistance', 'HKQuantityTypeIdentifierAppleStandTime', 'HKQuantityTypeIdentifierWalkingSpeed', 'HKQuantityTypeIdentifierWalkingStepLength', 'HKQuantityTypeIdentifierWalkingAsymmetryPercentage', 'HKQuantityTypeIdentifierStairAscentSpeed', 'HKQuantityTypeIdentifierStairDescentSpeed', 'HKDataTypeSleepDurationGoal', 'HKQuantityTypeIdentifierAppleWalkingSteadiness', 'HKCategoryTypeIdentifierSleepAnalysis', 'HKCategoryTypeIdentifierAppleStandHour', 'HKCategoryTypeIdentifierMindfulSession', 'HKCategoryTypeIdentifierHighHeartRateEvent', 'HKCategoryTypeIdentifierLowHeartRateEvent', 'HKCategoryTypeIdentifierAudioExposureEvent', 'HKCategoryTypeIdentifierToothbrushingEvent', 'HKCategoryTypeIdentifierHandwashingEvent', 'HKQuantityTypeIdentifierHeartRateVariabilitySDNN'])\n"
     ]
    },
    {
     "data": {
      "text/html": [
       "<div>\n",
       "<style scoped>\n",
       "    .dataframe tbody tr th:only-of-type {\n",
       "        vertical-align: middle;\n",
       "    }\n",
       "\n",
       "    .dataframe tbody tr th {\n",
       "        vertical-align: top;\n",
       "    }\n",
       "\n",
       "    .dataframe thead th {\n",
       "        text-align: right;\n",
       "    }\n",
       "</style>\n",
       "<table border=\"1\" class=\"dataframe\">\n",
       "  <thead>\n",
       "    <tr style=\"text-align: right;\">\n",
       "      <th></th>\n",
       "      <th>time</th>\n",
       "      <th>value</th>\n",
       "    </tr>\n",
       "  </thead>\n",
       "  <tbody>\n",
       "    <tr>\n",
       "      <th>0</th>\n",
       "      <td>2018-04-10 13:32:22 +0200</td>\n",
       "      <td>9</td>\n",
       "    </tr>\n",
       "    <tr>\n",
       "      <th>1</th>\n",
       "      <td>2018-04-10 13:53:29 +0200</td>\n",
       "      <td>22</td>\n",
       "    </tr>\n",
       "    <tr>\n",
       "      <th>2</th>\n",
       "      <td>2018-04-10 14:08:30 +0200</td>\n",
       "      <td>77</td>\n",
       "    </tr>\n",
       "    <tr>\n",
       "      <th>3</th>\n",
       "      <td>2018-04-10 14:08:30 +0200</td>\n",
       "      <td>223</td>\n",
       "    </tr>\n",
       "    <tr>\n",
       "      <th>4</th>\n",
       "      <td>2018-04-10 14:23:30 +0200</td>\n",
       "      <td>187</td>\n",
       "    </tr>\n",
       "  </tbody>\n",
       "</table>\n",
       "</div>"
      ],
      "text/plain": [
       "                        time value\n",
       "0  2018-04-10 13:32:22 +0200     9\n",
       "1  2018-04-10 13:53:29 +0200    22\n",
       "2  2018-04-10 14:08:30 +0200    77\n",
       "3  2018-04-10 14:08:30 +0200   223\n",
       "4  2018-04-10 14:23:30 +0200   187"
      ]
     },
     "execution_count": 7,
     "metadata": {},
     "output_type": "execute_result"
    }
   ],
   "source": [
    "print(health_data.keys())\n",
    "health_data[\"HKQuantityTypeIdentifierStepCount\"].head()"
   ]
  },
  {
   "cell_type": "markdown",
   "metadata": {},
   "source": [
    "# CacheHandler"
   ]
  },
  {
   "cell_type": "code",
   "execution_count": 8,
   "metadata": {},
   "outputs": [],
   "source": [
    "ch = CacheHandler(path)"
   ]
  },
  {
   "cell_type": "code",
   "execution_count": 9,
   "metadata": {},
   "outputs": [
    {
     "name": "stdout",
     "output_type": "stream",
     "text": [
      "Caching 370 routes.\n",
      "Caching 42 health dataframes.\n"
     ]
    }
   ],
   "source": [
    "ch.cache_routes(routes)\n",
    "ch.cache_export_data(health_data)"
   ]
  },
  {
   "cell_type": "code",
   "execution_count": 10,
   "metadata": {},
   "outputs": [],
   "source": [
    "c_routes = ch.load_cached_routes()\n",
    "c_health_data = ch.load_cached_export_data()"
   ]
  }
 ],
 "metadata": {
  "interpreter": {
   "hash": "e17245beed66d97676295f18f5af02f52c1ff0b20014505018e20bb50c7c46d6"
  },
  "kernelspec": {
   "display_name": "Python 3.8.3 64-bit ('base': conda)",
   "name": "python3"
  },
  "language_info": {
   "codemirror_mode": {
    "name": "ipython",
    "version": 3
   },
   "file_extension": ".py",
   "mimetype": "text/x-python",
   "name": "python",
   "nbconvert_exporter": "python",
   "pygments_lexer": "ipython3",
   "version": "3.9.7"
  },
  "orig_nbformat": 4
 },
 "nbformat": 4,
 "nbformat_minor": 2
}
