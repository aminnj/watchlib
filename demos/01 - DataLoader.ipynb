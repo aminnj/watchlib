{
 "cells": [
  {
   "cell_type": "code",
   "execution_count": 1,
   "source": [
    "import sys\n",
    "sys.path.append(\"../\")\n",
    "\n",
    "from data_handler import DataLoader"
   ],
   "outputs": [],
   "metadata": {}
  },
  {
   "cell_type": "code",
   "execution_count": 4,
   "source": [
    "data_loader = DataLoader(\"/Users/macbookpro/Documents/Code/apple-health-analyser/data/apple_health_export\")"
   ],
   "outputs": [],
   "metadata": {}
  },
  {
   "cell_type": "markdown",
   "source": [
    "# Workout routes"
   ],
   "metadata": {}
  },
  {
   "cell_type": "code",
   "execution_count": 5,
   "source": [
    "# Loading all workout routes and reading one of them\n",
    "routes = data_loader.load_workout_routes()\n",
    "route = data_loader.read_workout_route(routes[5])\n",
    "route.head()"
   ],
   "outputs": [
    {
     "output_type": "stream",
     "name": "stdout",
     "text": [
      "Loading 370 workout routes.\n"
     ]
    },
    {
     "output_type": "execute_result",
     "data": {
      "text/html": [
       "<div>\n",
       "<style scoped>\n",
       "    .dataframe tbody tr th:only-of-type {\n",
       "        vertical-align: middle;\n",
       "    }\n",
       "\n",
       "    .dataframe tbody tr th {\n",
       "        vertical-align: top;\n",
       "    }\n",
       "\n",
       "    .dataframe thead th {\n",
       "        text-align: right;\n",
       "    }\n",
       "</style>\n",
       "<table border=\"1\" class=\"dataframe\">\n",
       "  <thead>\n",
       "    <tr style=\"text-align: right;\">\n",
       "      <th></th>\n",
       "      <th>lon</th>\n",
       "      <th>lat</th>\n",
       "      <th>time</th>\n",
       "      <th>elevation</th>\n",
       "      <th>speed</th>\n",
       "      <th>course</th>\n",
       "      <th>hAcc</th>\n",
       "      <th>vAcc</th>\n",
       "    </tr>\n",
       "  </thead>\n",
       "  <tbody>\n",
       "    <tr>\n",
       "      <th>0</th>\n",
       "      <td>10.989575</td>\n",
       "      <td>49.407470</td>\n",
       "      <td>2019-03-08T10:00:55Z</td>\n",
       "      <td>327.972504</td>\n",
       "      <td>0.403257</td>\n",
       "      <td>206.962143</td>\n",
       "      <td>2.363972</td>\n",
       "      <td>1.538993</td>\n",
       "    </tr>\n",
       "    <tr>\n",
       "      <th>1</th>\n",
       "      <td>10.989575</td>\n",
       "      <td>49.407470</td>\n",
       "      <td>2019-03-08T10:00:55Z</td>\n",
       "      <td>327.976654</td>\n",
       "      <td>0.403256</td>\n",
       "      <td>206.962143</td>\n",
       "      <td>2.307514</td>\n",
       "      <td>1.500455</td>\n",
       "    </tr>\n",
       "    <tr>\n",
       "      <th>2</th>\n",
       "      <td>10.989576</td>\n",
       "      <td>49.407473</td>\n",
       "      <td>2019-03-08T10:00:56Z</td>\n",
       "      <td>327.991058</td>\n",
       "      <td>0.403186</td>\n",
       "      <td>209.331848</td>\n",
       "      <td>2.128392</td>\n",
       "      <td>1.378969</td>\n",
       "    </tr>\n",
       "    <tr>\n",
       "      <th>3</th>\n",
       "      <td>10.989577</td>\n",
       "      <td>49.407477</td>\n",
       "      <td>2019-03-08T10:00:57Z</td>\n",
       "      <td>328.009277</td>\n",
       "      <td>0.402690</td>\n",
       "      <td>219.443481</td>\n",
       "      <td>1.939687</td>\n",
       "      <td>1.252865</td>\n",
       "    </tr>\n",
       "    <tr>\n",
       "      <th>4</th>\n",
       "      <td>10.989579</td>\n",
       "      <td>49.407480</td>\n",
       "      <td>2019-03-08T10:00:58Z</td>\n",
       "      <td>328.027679</td>\n",
       "      <td>0.401192</td>\n",
       "      <td>222.858261</td>\n",
       "      <td>1.791188</td>\n",
       "      <td>1.155842</td>\n",
       "    </tr>\n",
       "  </tbody>\n",
       "</table>\n",
       "</div>"
      ],
      "text/plain": [
       "         lon        lat                  time   elevation     speed  \\\n",
       "0  10.989575  49.407470  2019-03-08T10:00:55Z  327.972504  0.403257   \n",
       "1  10.989575  49.407470  2019-03-08T10:00:55Z  327.976654  0.403256   \n",
       "2  10.989576  49.407473  2019-03-08T10:00:56Z  327.991058  0.403186   \n",
       "3  10.989577  49.407477  2019-03-08T10:00:57Z  328.009277  0.402690   \n",
       "4  10.989579  49.407480  2019-03-08T10:00:58Z  328.027679  0.401192   \n",
       "\n",
       "       course      hAcc      vAcc  \n",
       "0  206.962143  2.363972  1.538993  \n",
       "1  206.962143  2.307514  1.500455  \n",
       "2  209.331848  2.128392  1.378969  \n",
       "3  219.443481  1.939687  1.252865  \n",
       "4  222.858261  1.791188  1.155842  "
      ]
     },
     "metadata": {},
     "execution_count": 5
    }
   ],
   "metadata": {}
  },
  {
   "cell_type": "code",
   "execution_count": 10,
   "source": [
    "# Loading one workout route and reading it\n",
    "route = data_loader.load_workout_route(\"route_2021-09-06_1.47pm.gpx\")\n",
    "data_loader.read_workout_route(route).head()"
   ],
   "outputs": [
    {
     "output_type": "execute_result",
     "data": {
      "text/html": [
       "<div>\n",
       "<style scoped>\n",
       "    .dataframe tbody tr th:only-of-type {\n",
       "        vertical-align: middle;\n",
       "    }\n",
       "\n",
       "    .dataframe tbody tr th {\n",
       "        vertical-align: top;\n",
       "    }\n",
       "\n",
       "    .dataframe thead th {\n",
       "        text-align: right;\n",
       "    }\n",
       "</style>\n",
       "<table border=\"1\" class=\"dataframe\">\n",
       "  <thead>\n",
       "    <tr style=\"text-align: right;\">\n",
       "      <th></th>\n",
       "      <th>lon</th>\n",
       "      <th>lat</th>\n",
       "      <th>time</th>\n",
       "      <th>elevation</th>\n",
       "      <th>speed</th>\n",
       "      <th>course</th>\n",
       "      <th>hAcc</th>\n",
       "      <th>vAcc</th>\n",
       "    </tr>\n",
       "  </thead>\n",
       "  <tbody>\n",
       "    <tr>\n",
       "      <th>0</th>\n",
       "      <td>9.745362</td>\n",
       "      <td>47.112210</td>\n",
       "      <td>2021-09-06T09:38:11Z</td>\n",
       "      <td>992.788025</td>\n",
       "      <td>1.365834</td>\n",
       "      <td>-1.000000</td>\n",
       "      <td>2.529288</td>\n",
       "      <td>2.160289</td>\n",
       "    </tr>\n",
       "    <tr>\n",
       "      <th>1</th>\n",
       "      <td>9.745355</td>\n",
       "      <td>47.112207</td>\n",
       "      <td>2021-09-06T09:38:12Z</td>\n",
       "      <td>992.841736</td>\n",
       "      <td>1.365756</td>\n",
       "      <td>-1.000000</td>\n",
       "      <td>2.404424</td>\n",
       "      <td>2.059114</td>\n",
       "    </tr>\n",
       "    <tr>\n",
       "      <th>2</th>\n",
       "      <td>9.745347</td>\n",
       "      <td>47.112203</td>\n",
       "      <td>2021-09-06T09:38:12Z</td>\n",
       "      <td>992.908142</td>\n",
       "      <td>1.365273</td>\n",
       "      <td>-1.000000</td>\n",
       "      <td>2.258735</td>\n",
       "      <td>1.939498</td>\n",
       "    </tr>\n",
       "    <tr>\n",
       "      <th>3</th>\n",
       "      <td>9.745333</td>\n",
       "      <td>47.112196</td>\n",
       "      <td>2021-09-06T09:38:13Z</td>\n",
       "      <td>993.027283</td>\n",
       "      <td>1.360996</td>\n",
       "      <td>-1.000000</td>\n",
       "      <td>2.021691</td>\n",
       "      <td>1.740204</td>\n",
       "    </tr>\n",
       "    <tr>\n",
       "      <th>4</th>\n",
       "      <td>9.745318</td>\n",
       "      <td>47.112188</td>\n",
       "      <td>2021-09-06T09:38:14Z</td>\n",
       "      <td>993.143738</td>\n",
       "      <td>1.352902</td>\n",
       "      <td>265.465332</td>\n",
       "      <td>1.818752</td>\n",
       "      <td>1.563616</td>\n",
       "    </tr>\n",
       "  </tbody>\n",
       "</table>\n",
       "</div>"
      ],
      "text/plain": [
       "        lon        lat                  time   elevation     speed  \\\n",
       "0  9.745362  47.112210  2021-09-06T09:38:11Z  992.788025  1.365834   \n",
       "1  9.745355  47.112207  2021-09-06T09:38:12Z  992.841736  1.365756   \n",
       "2  9.745347  47.112203  2021-09-06T09:38:12Z  992.908142  1.365273   \n",
       "3  9.745333  47.112196  2021-09-06T09:38:13Z  993.027283  1.360996   \n",
       "4  9.745318  47.112188  2021-09-06T09:38:14Z  993.143738  1.352902   \n",
       "\n",
       "       course      hAcc      vAcc  \n",
       "0   -1.000000  2.529288  2.160289  \n",
       "1   -1.000000  2.404424  2.059114  \n",
       "2   -1.000000  2.258735  1.939498  \n",
       "3   -1.000000  2.021691  1.740204  \n",
       "4  265.465332  1.818752  1.563616  "
      ]
     },
     "metadata": {},
     "execution_count": 10
    }
   ],
   "metadata": {}
  },
  {
   "cell_type": "markdown",
   "source": [
    "# Electrocardiograms (ECG)"
   ],
   "metadata": {}
  },
  {
   "cell_type": "code",
   "execution_count": 6,
   "source": [
    "ecgs = data_loader.load_ecgs()\n",
    "meta_data, ecg_data = data_loader.read_ecg(ecgs[6])"
   ],
   "outputs": [
    {
     "output_type": "stream",
     "name": "stdout",
     "text": [
      "Loading 21 electrocardiograms.\n"
     ]
    }
   ],
   "metadata": {}
  },
  {
   "cell_type": "code",
   "execution_count": 8,
   "source": [
    "meta_data.keys()"
   ],
   "outputs": [
    {
     "output_type": "execute_result",
     "data": {
      "text/plain": [
       "dict_keys(['Geburtstag', 'Aufzeichnungsdatum', 'Klassifizierung', 'Symptome', 'Softwareversion', 'Gerät', 'Messrate', 'Ableitung', 'Einheit', 'name'])"
      ]
     },
     "metadata": {},
     "execution_count": 8
    }
   ],
   "metadata": {}
  },
  {
   "cell_type": "code",
   "execution_count": 9,
   "source": [
    "ecg_data.head()"
   ],
   "outputs": [
    {
     "output_type": "execute_result",
     "data": {
      "text/html": [
       "<div>\n",
       "<style scoped>\n",
       "    .dataframe tbody tr th:only-of-type {\n",
       "        vertical-align: middle;\n",
       "    }\n",
       "\n",
       "    .dataframe tbody tr th {\n",
       "        vertical-align: top;\n",
       "    }\n",
       "\n",
       "    .dataframe thead th {\n",
       "        text-align: right;\n",
       "    }\n",
       "</style>\n",
       "<table border=\"1\" class=\"dataframe\">\n",
       "  <thead>\n",
       "    <tr style=\"text-align: right;\">\n",
       "      <th></th>\n",
       "      <th>name</th>\n",
       "      <th>value</th>\n",
       "    </tr>\n",
       "  </thead>\n",
       "  <tbody>\n",
       "    <tr>\n",
       "      <th>9</th>\n",
       "      <td>-110</td>\n",
       "      <td>676</td>\n",
       "    </tr>\n",
       "    <tr>\n",
       "      <th>10</th>\n",
       "      <td>-67</td>\n",
       "      <td>851</td>\n",
       "    </tr>\n",
       "    <tr>\n",
       "      <th>11</th>\n",
       "      <td>-33</td>\n",
       "      <td>643</td>\n",
       "    </tr>\n",
       "    <tr>\n",
       "      <th>12</th>\n",
       "      <td>-8</td>\n",
       "      <td>27</td>\n",
       "    </tr>\n",
       "    <tr>\n",
       "      <th>13</th>\n",
       "      <td>9</td>\n",
       "      <td>951</td>\n",
       "    </tr>\n",
       "  </tbody>\n",
       "</table>\n",
       "</div>"
      ],
      "text/plain": [
       "    name  value\n",
       "9   -110    676\n",
       "10   -67    851\n",
       "11   -33    643\n",
       "12    -8     27\n",
       "13     9    951"
      ]
     },
     "metadata": {},
     "execution_count": 9
    }
   ],
   "metadata": {}
  }
 ],
 "metadata": {
  "orig_nbformat": 4,
  "language_info": {
   "name": "python",
   "version": "3.8.3",
   "mimetype": "text/x-python",
   "codemirror_mode": {
    "name": "ipython",
    "version": 3
   },
   "pygments_lexer": "ipython3",
   "nbconvert_exporter": "python",
   "file_extension": ".py"
  },
  "kernelspec": {
   "name": "python3",
   "display_name": "Python 3.8.3 64-bit ('base': conda)"
  },
  "interpreter": {
   "hash": "5f9a5c6385b27be52577e52a1da1fad1ce0728a3561da10564cac0639bb46950"
  }
 },
 "nbformat": 4,
 "nbformat_minor": 2
}